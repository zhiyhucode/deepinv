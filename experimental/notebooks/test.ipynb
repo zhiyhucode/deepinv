{
 "cells": [
  {
   "cell_type": "code",
   "execution_count": 17,
   "metadata": {},
   "outputs": [
    {
     "data": {
      "text/plain": [
       "device(type='cuda', index=0)"
      ]
     },
     "execution_count": 17,
     "metadata": {},
     "output_type": "execute_result"
    }
   ],
   "source": [
    "import numpy as np\n",
    "import torch\n",
    "from hadamard_transform import hadamard_transform\n",
    "\n",
    "x = torch.rand((3, 2 ** 10), dtype=torch.float32).to(\"cuda\")\n",
    "y = hadamard_transform(x)\n",
    "x.device"
   ]
  },
  {
   "cell_type": "code",
   "execution_count": 14,
   "metadata": {},
   "outputs": [
    {
     "data": {
      "text/plain": [
       "False"
      ]
     },
     "execution_count": 14,
     "metadata": {},
     "output_type": "execute_result"
    }
   ],
   "source": [
    "torch.allclose(hadamard_transform(hadamard_transform(x)),x)"
   ]
  },
  {
   "cell_type": "code",
   "execution_count": 18,
   "metadata": {},
   "outputs": [
    {
     "data": {
      "text/plain": [
       "tensor([[0.3711, 0.4938, 0.9078,  ..., 0.9215, 0.5802, 0.8671],\n",
       "        [0.1637, 0.2563, 0.0527,  ..., 0.9170, 0.5296, 0.1914],\n",
       "        [0.9520, 0.5581, 0.6199,  ..., 0.3009, 0.8916, 0.5555]],\n",
       "       device='cuda:0')"
      ]
     },
     "execution_count": 18,
     "metadata": {},
     "output_type": "execute_result"
    }
   ],
   "source": [
    "hadamard_transform(y)"
   ]
  },
  {
   "cell_type": "code",
   "execution_count": 19,
   "metadata": {},
   "outputs": [
    {
     "data": {
      "text/plain": [
       "tensor([[0.3711, 0.4938, 0.9078,  ..., 0.9215, 0.5802, 0.8671],\n",
       "        [0.1637, 0.2563, 0.0527,  ..., 0.9170, 0.5296, 0.1914],\n",
       "        [0.9520, 0.5581, 0.6199,  ..., 0.3009, 0.8916, 0.5555]],\n",
       "       device='cuda:0')"
      ]
     },
     "execution_count": 19,
     "metadata": {},
     "output_type": "execute_result"
    }
   ],
   "source": [
    "x"
   ]
  },
  {
   "cell_type": "code",
   "execution_count": null,
   "metadata": {},
   "outputs": [],
   "source": []
  }
 ],
 "metadata": {
  "kernelspec": {
   "display_name": "deepinv2",
   "language": "python",
   "name": "python3"
  },
  "language_info": {
   "codemirror_mode": {
    "name": "ipython",
    "version": 3
   },
   "file_extension": ".py",
   "mimetype": "text/x-python",
   "name": "python",
   "nbconvert_exporter": "python",
   "pygments_lexer": "ipython3",
   "version": "3.11.10"
  }
 },
 "nbformat": 4,
 "nbformat_minor": 2
}
