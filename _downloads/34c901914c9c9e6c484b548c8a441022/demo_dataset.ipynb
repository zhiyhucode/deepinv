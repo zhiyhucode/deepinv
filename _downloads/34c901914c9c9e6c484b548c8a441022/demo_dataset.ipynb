{
  "cells": [
    {
      "cell_type": "markdown",
      "metadata": {},
      "source": [
        "\n# Creating your own dataset\n\nThis example shows how to create your own dataset for deep image inverse problems from a base dataset\nof images. Here we use Set3C as a base dataset of natural images. This base dataset contains 3 images.\n"
      ]
    },
    {
      "cell_type": "code",
      "execution_count": null,
      "metadata": {
        "collapsed": false
      },
      "outputs": [],
      "source": [
        "import deepinv as dinv\nfrom pathlib import Path\nimport torch\nfrom torch.utils.data import DataLoader\nfrom torchvision import transforms\nfrom deepinv.utils.demo import load_dataset"
      ]
    },
    {
      "cell_type": "markdown",
      "metadata": {},
      "source": [
        "## Setup paths for data loading and results.\n\n\n"
      ]
    },
    {
      "cell_type": "code",
      "execution_count": null,
      "metadata": {
        "collapsed": false
      },
      "outputs": [],
      "source": [
        "BASE_DIR = Path(\".\")\nDATA_DIR = BASE_DIR / \"measurements\""
      ]
    },
    {
      "cell_type": "markdown",
      "metadata": {},
      "source": [
        "## Load base image datasets\n\nWe download the Set3 dataset which is a :class:`torchvision.datasets.ImageFolder` dataset.\nYou can use any other dataset as long as it is a :class:`torch.utils.data.Dataset`.\n\n\n"
      ]
    },
    {
      "cell_type": "code",
      "execution_count": null,
      "metadata": {
        "collapsed": false
      },
      "outputs": [],
      "source": [
        "# Set the global random seed from pytorch to ensure reproducibility of the example.\ntorch.manual_seed(0)\n\ndevice = dinv.utils.get_freer_gpu() if torch.cuda.is_available() else \"cpu\"\n\n# Set up the variable to fetch dataset and operators.\ndataset_name = \"set3c\"\n\nimg_size = 256 if torch.cuda.is_available() else 32\n\nval_transform = transforms.Compose(\n    [transforms.CenterCrop(img_size), transforms.ToTensor()]\n)\n\n# add batch and channel dimensions\ndataset = load_dataset(dataset_name, transform=val_transform)\n\n# display an image from the base dataset\ndinv.utils.plot(dataset[0][0].unsqueeze(0))"
      ]
    },
    {
      "cell_type": "markdown",
      "metadata": {},
      "source": [
        "## Generate a dataset of degraded images and load it.\nWe use a simple denoising forward operator with Gaussian noise.\n\n<div class=\"alert alert-info\"><h4>Note</h4><p>:func:`deepinv.datasets.generate_dataset` will ignore other attributes than the image,\n     e.g. the class labels if there are any.</p></div>\n\n"
      ]
    },
    {
      "cell_type": "code",
      "execution_count": null,
      "metadata": {
        "collapsed": false
      },
      "outputs": [],
      "source": [
        "n_channels = 3  # 3 for color images, 1 for gray-scale images\nphysics = dinv.physics.Denoising(dinv.physics.GaussianNoise(0.2))\n\n# Use parallel dataloader if using a GPU to fasten training,\n# otherwise, as all computes are on CPU, use synchronous data loading.\nnum_workers = 4 if torch.cuda.is_available() else 0\n\noperation = \"denoise\"\nmeasurement_dir = DATA_DIR / dataset_name / operation\ndinv_dataset_path = dinv.datasets.generate_dataset(\n    train_dataset=dataset,\n    test_dataset=None,\n    physics=physics,\n    device=device,\n    save_dir=measurement_dir,\n    num_workers=num_workers,\n)\n\ndataset = dinv.datasets.HDF5Dataset(path=dinv_dataset_path, train=True)\n\n# display an image from the base dataset\nx, y = dataset[0]\ndinv.utils.plot([x.unsqueeze(0), y.unsqueeze(0)])"
      ]
    },
    {
      "cell_type": "markdown",
      "metadata": {},
      "source": [
        "## Create a dataloader\n\nWe iterate over the dataset using a dataloader, which will return a batches of pairs of signals and measurements.\n\n<div class=\"alert alert-info\"><h4>Note</h4><p>You can adapt this code to build your custom train function, in case :func:`deepinv.train`\n    doesn't meet your needs.</p></div>\n\n"
      ]
    },
    {
      "cell_type": "code",
      "execution_count": null,
      "metadata": {
        "collapsed": false
      },
      "outputs": [],
      "source": [
        "batch_size = 2\ndataloader = DataLoader(\n    dataset, batch_size=batch_size, num_workers=num_workers, shuffle=False\n)\n\nfor x, y in dataloader:\n    dinv.utils.plot([x, y])"
      ]
    }
  ],
  "metadata": {
    "kernelspec": {
      "display_name": "Python 3",
      "language": "python",
      "name": "python3"
    },
    "language_info": {
      "codemirror_mode": {
        "name": "ipython",
        "version": 3
      },
      "file_extension": ".py",
      "mimetype": "text/x-python",
      "name": "python",
      "nbconvert_exporter": "python",
      "pygments_lexer": "ipython3",
      "version": "3.12.11"
    }
  },
  "nbformat": 4,
  "nbformat_minor": 0
}