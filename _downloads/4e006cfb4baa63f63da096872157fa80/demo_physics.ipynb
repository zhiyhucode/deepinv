{
  "cells": [
    {
      "cell_type": "markdown",
      "metadata": {},
      "source": [
        "\n# Creating a forward operator.\n\nWhile deepinv offers a large number of forward operators in the physics module,\nyou might want to create your own forward operator for your specific imaging problem.\nThis example walks you through the creation of a custom forward operator.\n\n\nWe will create a simple forward operator that converts RGB images to grayscale images by averaging the color channels.\nWe also show you how to exploit the singular value decomposition of the operator to speed up the evaluation of\nthe pseudo-inverse and proximal operators.\n"
      ]
    },
    {
      "cell_type": "code",
      "execution_count": null,
      "metadata": {
        "collapsed": false
      },
      "outputs": [],
      "source": [
        "import deepinv as dinv\nimport torch"
      ]
    },
    {
      "cell_type": "markdown",
      "metadata": {},
      "source": [
        "## Creating a custom forward operator.\nDefining a new linear operator only requires a forward function and its transpose operation,\ninheriting the remaining structure of the :class:`deepinv.physics.LinearPhysics` class.\n\nOnce the operator is defined, we can use any of the functions in the :class:`deepinv.physics.Physics` class and\n:class:`deepinv.physics.LinearPhysics` class, such as computing the norm of the operator, testing the adjointness,\ncomputing the proximal operator, etc.\n\n"
      ]
    },
    {
      "cell_type": "code",
      "execution_count": null,
      "metadata": {
        "collapsed": false
      },
      "outputs": [],
      "source": [
        "# define an operator that converts color images into grayscale ones.\nclass Decolorize(dinv.physics.LinearPhysics):\n    r\"\"\"\n    Converts RGB images to grayscale.\n\n    Signals must be tensors with 3 colour (RGB) channels, i.e. [*,3,*,*]\n    The measurements are grayscale images.\n\n    \"\"\"\n\n    def __init__(self, **kwargs):\n        super().__init__(**kwargs)\n        self.noise_model = dinv.physics.GaussianNoise(sigma=0.1)\n        # the RGB to grayscale coefficients\n        coefficients = torch.tensor([0.2989, 0.5870, 0.1140], dtype=torch.float32)\n\n        # register the coefficients as a buffer\n        self.register_buffer(\"coefficients\", coefficients)\n\n    def A(self, x, theta=None):  # theta is an optional parameter that is not used here\n        y = (\n            x * self.coefficients[None, :, None, None]\n        )  # apply coefficients to each channel\n        return torch.sum(y, dim=1, keepdim=True)  # sum over the color channels\n\n    def A_adjoint(self, y, theta=None):\n        return y * self.coefficients[None, :, None, None]\n\n\nphysics = Decolorize()"
      ]
    },
    {
      "cell_type": "markdown",
      "metadata": {},
      "source": [
        "## Generate toy image\n\nThis example uses a toy image with 3 color channels.\n\n"
      ]
    },
    {
      "cell_type": "code",
      "execution_count": null,
      "metadata": {
        "collapsed": false
      },
      "outputs": [],
      "source": [
        "x = torch.zeros(1, 3, 96, 128)\nx[:, 0, :32, :] = 1\nx[:, 1, 32:64, :] = 1\nx[:, 2, 64:, :] = 1\n\ny = physics(x)\nxlin = physics.A_dagger(y)  # compute the linear pseudo-inverse\n\ndinv.utils.plot([x, y, xlin], titles=[\"image\", \"meas.\", \"linear rec.\"])"
      ]
    },
    {
      "cell_type": "markdown",
      "metadata": {},
      "source": [
        "## Verifying our linear operator\n\n    If the operator is linear, it is recommended to verify that the transpose well-defined using\n    :func:`deepinv.physics.LinearPhysics.adjointness_test`,\n    and that it has a unit norm using :func:`deepinv.physics.LinearPhysics.compute_norm`.\n\n"
      ]
    },
    {
      "cell_type": "code",
      "execution_count": null,
      "metadata": {
        "collapsed": false
      },
      "outputs": [],
      "source": [
        "print(f\"The linear operator has norm={physics.compute_norm(x):.2f}\")\n\nif physics.adjointness_test(x) < 1e-5:\n    print(\"The linear operator has a well defined transpose\")"
      ]
    },
    {
      "cell_type": "markdown",
      "metadata": {},
      "source": [
        "## Creating a decomposable forward operator.\nIf the forward operator has a closed form singular value decomposition (SVD),\nit is recommended to implement the operator using the :class:`deepinv.physics.DecomposablePhysics` method.\n\nThe operator in this example is decomposable, so we can implement it using\n:class:`deepinv.physics.DecomposablePhysics`.\n\n"
      ]
    },
    {
      "cell_type": "code",
      "execution_count": null,
      "metadata": {
        "collapsed": false
      },
      "outputs": [],
      "source": [
        "class DecolorizeSVD(dinv.physics.DecomposablePhysics):\n    r\"\"\"\n    Converts RGB images to grayscale.\n\n    Signals must be tensors with 3 colour (RGB) channels, i.e. [*,3,*,*]\n    The measurements are grayscale images.\n\n    \"\"\"\n\n    def __init__(self, **kwargs):\n        super().__init__(mask=0.447, **kwargs)\n        self.noise_model = dinv.physics.GaussianNoise(sigma=0.1)\n\n        # the RGB to grayscale coefficients\n        coefficients = torch.tensor([0.6687, 1.3132, 0.2550], dtype=torch.float32)\n\n        # register the coefficients as a buffer\n        self.register_buffer(\"coefficients\", coefficients)\n\n    def V_adjoint(self, x):\n        y = x * self.coefficients[None, :, None, None]\n        return torch.sum(y, dim=1, keepdim=True)\n\n    def V(self, y):\n        return y * self.coefficients[None, :, None, None]\n\n\nphysics2 = DecolorizeSVD()\n\ny2 = physics2(x)\nxlin2 = physics.A_dagger(y2)  # compute the linear pseudo-inverse\n\ndinv.utils.plot([x, y2, xlin2], titles=[\"image\", \"meas.\", \"linear rec.\"])\n\nprint(f\"The decomposable operator has norm={physics.compute_norm(x):.2f}\")\n\nif physics.adjointness_test(x) < 1e-5:\n    print(\"The decomposable operator has a well defined transpose\")"
      ]
    },
    {
      "cell_type": "markdown",
      "metadata": {},
      "source": [
        "## Benefits of using a decomposable forward operator.\nIf the forward operator has a closed form singular value decomposition (SVD),\nit is recommended to implement the operator using :class:`deepinv.physics.DecomposablePhysics`.\n\nThe operator in this example is decomposable, so we can implement it using\n:class:`deepinv.physics.DecomposablePhysics`.\n\nThe main benefit of using a decomposable forward operator is that it provides closed form solutions for the\nproximal operator and the linear pseudo-inverse. Moreover, some algorithms, such as :class:`deepinv.sampling.DDRM`\nrequire the forward operator to be decomposable.\n\n"
      ]
    },
    {
      "cell_type": "code",
      "execution_count": null,
      "metadata": {
        "collapsed": false
      },
      "outputs": [],
      "source": [
        "import time\n\nstart = time.time()\nfor i in range(10):\n    xlin = physics.A_dagger(y)\n    xprox = physics.prox_l2(x, y, 0.1)\n\nend = time.time()\nprint(f\"Elapsed time for LinearPhysics: {end - start:.2f} seconds\")\n\nstart = time.time()\nfor i in range(10):\n    xlin2 = physics2.A_dagger(y)\n    xprox2 = physics2.prox_l2(x, y2, 0.1)\n\nend = time.time()\nprint(f\"Elapsed time for DecomposablePhysics: {end - start:.2e} seconds\")"
      ]
    }
  ],
  "metadata": {
    "kernelspec": {
      "display_name": "Python 3",
      "language": "python",
      "name": "python3"
    },
    "language_info": {
      "codemirror_mode": {
        "name": "ipython",
        "version": 3
      },
      "file_extension": ".py",
      "mimetype": "text/x-python",
      "name": "python",
      "nbconvert_exporter": "python",
      "pygments_lexer": "ipython3",
      "version": "3.12.11"
    }
  },
  "nbformat": 4,
  "nbformat_minor": 0
}